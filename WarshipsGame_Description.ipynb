{
 "cells": [
  {
   "cell_type": "markdown",
   "metadata": {},
   "source": [
    " <font size='8' color=indianred> <b> <center>Warships Game</center></b> </font><br>\n",
    "<font size='5' color=chocolate> <b> <center>A program for the one-player game of WARSHIPS.</center></b> </font><br>"
   ]
  },
  {
   "cell_type": "markdown",
   "metadata": {},
   "source": [
    "<font size='4' color=olive> <b>1. Program aim:</b> </font><br>\n",
    "\n",
    "<font size='3' color=black> <b>The aim of the game is to destroy all the ships that are hidden in a $10 \\times 10$ grid called the \"Board\".</b> </font><br>\n",
    "<br>\n",
    "<font size='4' color=olive> <b>2. Program summary:</b> </font><br>\n",
    "\n",
    "<font size='3' color=black> <b>Before the start of the game, computer places five ships on the <b>Board</b>. The player is not told where the ships are placed.\n",
    "Each ship occupies a number of consecutive squares on the board determined by the type of ship that it is:</b> </font><br>\n",
    "<br>"
   ]
  },
  {
   "cell_type": "markdown",
   "metadata": {},
   "source": [
    " <font size=\"4\" color=darkviolet > Ship Type $\\;\\;\\;\\;\\;\\;\\;\\;\\;\\;\\;\\;\\;\\;\\;\\;\\;\\;$  Length of ship(in squares)</font>  <br>\n",
    " \n",
    "<font size=\"4\" color=darkblue> Aircraft Carrier (A) $\\;\\;\\;\\;\\;\\;\\;\\;\\;\\;\\;\\;\\;\\;\\;\\;$ 5 </font> <br>\n",
    "\n",
    "<font size=\"4\" color=darkblue> Battleship (B) $\\;\\;\\;\\;\\;\\;\\;\\;\\;\\;\\;\\;\\;\\;\\;\\;\\;\\;\\;\\;\\;\\;$ 4 </font> <br> \n",
    "\n",
    "<font size=\"4\" color=darkblue> Submarine (S)$\\;\\;\\;\\;\\;\\;\\;\\;\\;\\;\\;\\;\\;\\;\\;\\;\\;\\;\\;\\;\\;\\;$3</font><br>\n",
    "\n",
    "<font size=\"4\" color=darkblue> Destroyer (D) $\\;\\;\\;\\;\\;\\;\\;\\;\\;\\;\\;\\;\\;\\;\\;\\;\\;\\;\\;\\;\\;\\;$3 </font><br>\n",
    "\n",
    "<font size=\"4\" color=darkblue>Patrol boat (P)$\\;\\;\\;\\;\\;\\;\\;\\;\\;\\;\\;\\;\\;\\;\\;\\;\\;\\;\\;\\;\\;$2</font><br>\n",
    "\n"
   ]
  },
  {
   "cell_type": "markdown",
   "metadata": {},
   "source": [
    "<img src=\"board_img.png\" width=\"400\">"
   ]
  },
  {
   "cell_type": "markdown",
   "metadata": {},
   "source": [
    "* <font size='3' color=black> <b> Each square will either be occupied by the character '-' or  by  first letter in the ship name.   </b> </font><br>\n",
    "<br>\n",
    "\n",
    "* <font size='3' color=black> <b> The ships can only be placed horizontally to the right or vertically downwards on the board as shown in the figure above and cannot be placed diagonally.  </b> </font><br>\n",
    "<br>\n",
    "\n",
    "* <font size='3' color=black> <b> The player fires a shot by specifying the location of a square on the board.  </b> </font><br>\n",
    "<br>\n",
    "\n",
    "* <font size='3' color=black> <b>  To specify the location of a square the player enters a number for the column (between $0$ and $9$) and then  a number for the row(between $0$ and $9$). </b> </font><br>\n",
    "<br>\n",
    "\n",
    "* <font size='3' color=black> <b> If the shot fired hits a ship it is called a 'hit' and the letter 'h' is used to show this on the board, otherwise it is called a 'miss' and the letter 'm' is used to show this on the board.  </b> </font><br>\n",
    "<br>\n",
    "\n",
    "* <font size='3' color=black> <b> A ship is destroyed when all the squares that it occupies have been ‘hit’.  </b> </font><br>\n",
    "<br>\n",
    "\n",
    "* <font size='3' color=black> <b> The player wins the game when all the ships have been destroyed.  </b> </font><br>\n",
    "<br>\n",
    "\n",
    "<font size='3' color=black> <b> You are required to write a collection of functions to carry out all the tasks in the game. </b> </font><br>\n",
    "\n",
    "<font size='3' color=black> <b> Your functions and the code need to be commented throughout using docstrings and comments in Python.</b> </font><br>\n",
    "<br>\n"
   ]
  },
  {
   "cell_type": "markdown",
   "metadata": {},
   "source": [
    "<font size='4' color=olive> <b>3. Warships game flowchart</b> </font><br>"
   ]
  },
  {
   "cell_type": "markdown",
   "metadata": {},
   "source": [
    "<img src=\"WarshipGameFlowChart.png\" width=\"800\">"
   ]
  },
  {
   "cell_type": "markdown",
   "metadata": {},
   "source": [
    "<font size='4' color=olive> <b>4. Warships game code breakdown</b> </font><br>"
   ]
  },
  {
   "cell_type": "markdown",
   "metadata": {},
   "source": [
    " <font size='4' color=firebrick> <b>Task 1:</b> </font> <br>\n",
    " \n",
    " <font color=rosybrown>__SetUpBoard(     )__ and __SetUpShips(  )__ functions </font><br>\n",
    " \n",
    "(a) Begin by creating a function called  <b>SetUpBoard</b>. <b>SetUpBoard</b> will return a two dimensional list called <b> Board </b>. <br>\n",
    " <br>\n",
    "<b>Board</b> has $10$ members (Rows) such that each member is also a list with $10$ members (Columns) of the same character <b>'-'</b>.<br>\n",
    "<br>\n",
    "(b) Similarly, create a function called <b>SetUpShips</b>. The function will return a two dimensional list called <b>Ships</b> <br>\n",
    "<br>\n",
    "<b>Ships</b> has $5$ members (Rows) such that each member is also a list with 2 members (Columns): name of the ship and its length as given in the table above."
   ]
  },
  {
   "cell_type": "markdown",
   "metadata": {},
   "source": [
    "<font size='2' color=teal>Note: In Python any table can be represented as a list of lists (a list, where each element is in turn a list). For example, here's the program that creates a numerical table with two rows and three columns, and then makes some manipulations with it:<br>\n",
    "<br>\n"
   ]
  },
  {
   "cell_type": "code",
   "execution_count": 1,
   "metadata": {},
   "outputs": [
    {
     "name": "stdout",
     "output_type": "stream",
     "text": [
      "[1, 2, 3]\n",
      "[4, 5, 6]\n",
      "[1, 2, 3]\n",
      "3\n",
      "[[1, 7, 3], [4, 5, 6]]\n",
      "[1, 7, 3]\n",
      "[1, 7, 9]\n",
      "[1, 7, 9]\n"
     ]
    }
   ],
   "source": [
    "a = [[1, 2, 3], [4, 5, 6]]\n",
    "print(a[0])\n",
    "print(a[1])\n",
    "b = a[0]\n",
    "print(b)\n",
    "print(a[0][2])\n",
    "a[0][1] = 7\n",
    "print(a)\n",
    "print(b)\n",
    "b[2] = 9\n",
    "print(a[0])\n",
    "print(b)"
   ]
  },
  {
   "cell_type": "markdown",
   "metadata": {},
   "source": [
    "<font size='4' color=firebrick> <b>Task 2:</b> </font><font color=rosybrown>__DisplayMenu( )__ function </font><br>\n",
    "\n",
    "Write a function called <b> DisplayMenu</b> to print out the following options that are available to the player: <br>\n",
    "<br>\n",
    "*   option(1) Start new game<br>\n",
    "*   option(2) Load training game<br>\n",
    "*   option(9) Quit"
   ]
  },
  {
   "cell_type": "markdown",
   "metadata": {},
   "source": [
    "<font size='4' color=firebrick> <b>Task 3: </b> </font> </font><font color=rosybrown>__GetMainMenuChoice( )__ function </font> <br>\n",
    "\n",
    "Write a function called <b>GetMainMenuChoice</b> to get the player's choice according to the main menu displayed in Task 2 and return a variable called <b>Choice</b>."
   ]
  },
  {
   "cell_type": "markdown",
   "metadata": {},
   "source": [
    "<font size='4' color=firebrick> <b>Task 4:  </b> </font> <br>\n",
    "\n",
    "<font color=rosybrown>__PlaceRandomShips(Board,Ships )__ , __ValidateBoatPosition(Board, Ship, Row, Column,Orientation)__ and __PlaceShip(Board, Ship, Row, Column,Orientation)__ functions. </font> <br>\n",
    "\n",
    "In this task you will write a function called <b>PlaceRandomShips</b> , which calls two functions: <b> ValidateBoatPosition</b> and  <b>PlaceShip </b>  to put the ships in valid random positions inside the board. <br>\n",
    "<b>PlaceRandomShips</b> takes <b> Board</b> and <b> Ships</b> as the arguments. For each <b>ship</b> in the <b>Ships</b> list, it generates three integer random numbers: Row (row number between 0 and 9),  Column (column number  between 0 and 9) and HorV variable for the orientation(0 for vertical orientation   and 1 for horizontal orientation) . To generate randome numbers you need to import Python random library e.g.<br>\n",
    "<br>\n",
    "<font size='3' color=teal>import random<br>\n",
    "Row = random.randint(0, 9)</font><br>    \n",
    "<br>\n",
    "\n",
    "To ensure that the ships are placed correctly inside the <b>Board</b>, <b>PlaceRandomShips</b>  calls  <b> ValidateBoatPosition</b> function. <b> ValidateBoatPosition</b> function takes <b>Board, Ship, Row, Column,</b> and <b> Orientation </b> as the input variables. It then checks if the ship fits inside the board as well as not over laying the already placed ship on the board and returns a logical variable called <b>Valid</b>. If Valid is False another set of random numbers will be generated. The process continues until an empty set of squares for the ship is found and Valid becomes True.<br>\n",
    "\n",
    "The message <b>\"Computer placing the ship name\"</b> is printed and <b>PlaceRandomShips</b>  calls <b>PlaceShip </b> function. <b>PlaceShip </b> takes <b>Board, Ship, Row, Column,</b> and <b> Orientation </b> as the arguments. It then assigns the relevant squares on the <b>Board</b> with the first letter of the ship as shown in the figure above and returns the modified __Board__. <br>\n",
    "<br>\n",
    "\n",
    "The process continues until all ships are correctly placed inside the board. "
   ]
  },
  {
   "cell_type": "markdown",
   "metadata": {},
   "source": [
    "<font size='4' color=firebrick> <b>Task 5:</b> </font> <br>\n",
    "\n",
    "<font color=rosybrown>__PlayGame(Board,Ships )__ , __PrintBoard(Board)__ ,  __MakePlayerMove(Board,Ships )__ , __GetRowColumn( )__ and  __CheckWin(Board)__   functions. </font> <br>\n",
    "\n",
    "\n",
    "In this task you will write functions to play the game.  Write a function called<b> PlayGame</b> as follows. <b> PlayGame</b> takes <b> Board</b> and <b> Ships</b> as input variables.  <b> PlayGame</b>  first shows the board to the player without revealing where the ships are placed. This is done by calling  the function called <b> PrintBoard</b>. Below is an example of such a function.<br>\n",
    "<br>\n",
    "\n",
    "\n",
    "\n",
    "<b> PlayGame</b> calls three functions: <b> PrintBoard, MakePlayerMove</b> and <b> CheckWin</b>. <b> PrintBoard</b> takes <b>Board</b> as an input and prints out the board without showing where the ships are placed within the board. <br>\n",
    "\n",
    "Write a function called <b>MakePlayerMove</b> which  takes both <b> Borad</b> and <b>Ships</b> as inputs. It  asks the player to enter their choice of Column and Row numbers. This could also be written as a separate function called <b>GetRowColumn</b>. __GetRowColumn__ asks the player to enter their choice of row and column numbers and returns them.  <b>MakePlayerMove</b> then verifies whether or not the player has chosen the correct squares for the ships or not. If the position is correct the square on the __Board__ is updated by letter 'h' for the __hit__ ,otherwise it is 'm' for the __miss__. You also need to check if the squares have already assigned 'h' or 'm'  or not. Once this is done, <b> PlayGame</b> calls <b> CheckWin</b> function. <b> CheckWin</b> takes <b> Board</b> as an input and checks if all the ships have been hit or not. The return value of the function <b> CheckWin</b> is either __True__ or __False__. \n",
    "The game continues untill all the ships are identified correctly. "
   ]
  },
  {
   "cell_type": "code",
   "execution_count": 18,
   "metadata": {},
   "outputs": [],
   "source": [
    "def PrintBoard(Board):\n",
    "    print()\n",
    "    print(\"The board looks like this: \")  \n",
    "    print()\n",
    "    print (\" \", end=\"\")\n",
    "    for Column in range(10):\n",
    "        print(\" \" + str(Column) + \"  \", end=\"\")\n",
    "    print()\n",
    "    for Row in range(10):\n",
    "        print (str(Row) + \" \", end=\"\")\n",
    "        for Column in range(10):\n",
    "            if Board[Row][Column] == \"-\":\n",
    "                print(\" \", end=\"\")\n",
    "            elif Board[Row][Column] in [\"A\",\"B\",\"S\",\"D\",\"P\",\"F\"]:\n",
    "                print(\" \", end=\"\")                \n",
    "            else:\n",
    "                print(Board[Row][Column], end=\"\")\n",
    "            if Column != 9:\n",
    "                print(\" | \", end=\"\")\n",
    "        print()\n",
    "\n",
    "\n",
    "\n",
    "\n"
   ]
  },
  {
   "cell_type": "markdown",
   "metadata": {},
   "source": [
    "<font size='4' color=firebrick> <b>Task 6:</b> </font> <br>\n",
    "\n",
    "</font><font color=rosybrown>__LoadGame( filename, Board )__ function </font><br>\n",
    "\n",
    "Write a function called <b>LoadGame</b> to read the text file called __training.txt__. The text  file contains a pre-saved __Board__. <b>LoadGame</b> reads the file, modifies __Board__ and returns it.<br>\n",
    "\n"
   ]
  },
  {
   "cell_type": "markdown",
   "metadata": {},
   "source": [
    "<font size='4' color=firebrick> <b>Task 7: </b> </font> <br>\n",
    "\n",
    "</font><font color=rosybrown>__main( )__ function </font><br>\n",
    "\n",
    "Write a function called __main( )__ that calls the following functions:\n",
    "\n",
    "* <b>SetUpBoard( )</b><br>\n",
    "\n",
    "* <b>SetUpShips( )</b><br>\n",
    "\n",
    "* <b>DisplayMenu( )</b><br>\n",
    "\n",
    "* <b> GetMainMenuChoice(  )</b><br>\n",
    "\n",
    "__main( )__ calls the following functions if the player chooses option 1.<br>\n",
    "\n",
    "* <b> PlaceRandomShips(Board, Ships)</b> <br>\n",
    "\n",
    "* <b>  PlayGame(Board,Ships)</b> <br>\n",
    "\n",
    "and calls the following functions if the player chooses option 2.<br>\n",
    "\n",
    "* <b> LoadGame(\"training.txt\", Board)\n",
    "\n",
    "* <b>  PlayGame(Board,Ships)</b> <br>\n",
    "\n",
    "__main( )__ stops working if option 9 is selected.\n"
   ]
  },
  {
   "cell_type": "markdown",
   "metadata": {},
   "source": [
    "<font size='4' color=firebrick> <b>Task 8:</b> </font> <br>\n",
    "\n",
    "Run  your  code (game)  using <br>\n",
    "\n",
    "\n",
    "\n"
   ]
  },
  {
   "cell_type": "code",
   "execution_count": null,
   "metadata": {},
   "outputs": [],
   "source": [
    "if  __name__ == \"__main__\":\n",
    "    main()"
   ]
  },
  {
   "cell_type": "markdown",
   "metadata": {},
   "source": [
    "<font size='4' color=teal>The following tasks require you to make modifications and to add more features to your code. You may find them slightly challenging! </font> <br>\n",
    "<br>"
   ]
  },
  {
   "cell_type": "markdown",
   "metadata": {},
   "source": [
    "<font size='4' color=firebrick> <b>Task 9:</b> </font> <br>\n",
    "\n",
    "It is currently possible to fire at coordinates that are off the __Board__, crashing the game. Amend __GetRowColumn__ function so that this is not possible. If a square off the __Board__ is targeted, the message :<br>\n",
    "\n",
    "<font color=darkviolet>\"Sorry, that is outside the target area. Please select again.\"</font><br>\n",
    "\n",
    "should be displayed and the user prompted to re-enter."
   ]
  },
  {
   "cell_type": "markdown",
   "metadata": {},
   "source": [
    "<font size='4' color=firebrick> <b>Task 10:</b> </font> <br>\n",
    "\n",
    "It is currently possible to fire at every square in order until you find every ship. Alter __PlayGame__ so that the player only has 20 torpedoes. The number of torpedoes should decrease by 1 after every move and be displayed on screen. When the number of torpedoes reaches 0, the message <font color=darkviolet>'GAME OVER!  You ran out of ammo' </font> should be displayed and the game should end.<br>\n"
   ]
  },
  {
   "cell_type": "markdown",
   "metadata": {},
   "source": [
    "<font size='4' color=firebrick> <b>Task 11:</b> </font> <br>\n",
    "\n",
    "It is currently possible to make a choice in main program only once. Alter __main( )__ so that the menue will continue to be displayed and game only stops if option __9__ is chosen. Also alter the procedure so that if the user enters 9 they are prompted with an 'Are you sure?' message. Only if they respond __Y__ will the program quit."
   ]
  },
  {
   "cell_type": "markdown",
   "metadata": {},
   "source": [
    "<font size='4' color=firebrick> <b>Task 12:</b> </font> <br>\n",
    "\n",
    "Creat a procedure called __SaveGame__. It should accept the __Board__ as a parameter that is passed to it along with a variable called filename.<br>\n",
    "\n",
    "It should then save the current state of the __Board__ to a text file named the value of the filename and in the same format as __Training.txt__.<br>\n"
   ]
  },
  {
   "cell_type": "markdown",
   "metadata": {},
   "source": [
    "<font size='4' color=firebrick> <b>Task 13:</b> </font> <br>\n",
    "\n",
    "This task refers to __PlayGame__ function.<br>\n",
    "\n",
    "After a player has made a move, they should be prompted :<br>\n",
    "\n",
    "<font color=darkviolet>'Do you want to save the game (Y,N)?'  </font><br>\n",
    "\n",
    "if the player enters __Y__, they should then be prompted for a filename and the game saved using the procedure created in __Task 12__.\n"
   ]
  },
  {
   "cell_type": "markdown",
   "metadata": {},
   "source": [
    "<font size='4' color=firebrick> <b>Task 14:</b> </font> <br>\n",
    "\n",
    "This task refers to multiple sections of the code.<br>\n",
    "\n",
    "A new ship has joined the fleet, called a __Frigate__. It has a length of __3__. Amend the program so that a __Frigate__ is placed in addition to the original ships when option 1 is selected. __'F'__ will represent a __Frigate__."
   ]
  },
  {
   "cell_type": "markdown",
   "metadata": {},
   "source": [
    "<font size='4' color=firebrick> <b>Task 15:</b> </font> <br>\n",
    "\n",
    "This task refers to __MakePlayerMove__.<br>\n",
    "\n",
    "When a player misses, a radar scan of adjacent cells should be performed. If any contains an undiscovered section of the ship, the message <font color=darkviolet>'Enemy Near!'</font> should be displayed. If not, the message <font color=darkviolet>'All quiet'</font> should be displayed. You should create a function called __RadarScan__ that returns a Boolean value for this operation,i.e <font color=darkviolet>True='Enemy Near!'</font>\n",
    "\n"
   ]
  },
  {
   "cell_type": "code",
   "execution_count": null,
   "metadata": {},
   "outputs": [],
   "source": []
  }
 ],
 "metadata": {
  "kernelspec": {
   "display_name": "Python 3",
   "language": "python",
   "name": "python3"
  },
  "language_info": {
   "codemirror_mode": {
    "name": "ipython",
    "version": 3
   },
   "file_extension": ".py",
   "mimetype": "text/x-python",
   "name": "python",
   "nbconvert_exporter": "python",
   "pygments_lexer": "ipython3",
   "version": "3.8.5"
  }
 },
 "nbformat": 4,
 "nbformat_minor": 2
}
